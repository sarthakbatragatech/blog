{
 "cells": [
  {
   "cell_type": "markdown",
   "metadata": {},
   "source": [
    "# Running Backs in the NFL\n",
    "> Digging into statistics from the previous NFL (National Football League) season in order to compare running backs across the 32 teams. This is an initial draft, much more to follow!\n",
    "\n",
    "- toc: true \n",
    "- badges: true\n",
    "- comments: true\n",
    "- categories: [sports, nfl, pandas, altair]\n",
    "- image: images/rb-analysis-preview.png"
   ]
  },
  {
   "cell_type": "markdown",
   "metadata": {},
   "source": [
    "This blog post can also be run as a [*Jupyter Notebook*](https://jupyter.org/install) and requires the following Python dependencies:\n",
    "\n",
    "* [`altair`](https://altair-viz.github.io/index.html)\n",
    "* [`numpy`](https://numpy.org/)\n",
    "* [`pandas`](https://pandas.pydata.org/)"
   ]
  },
  {
   "cell_type": "code",
   "execution_count": 1,
   "metadata": {},
   "outputs": [],
   "source": [
    "import numpy as np\n",
    "import pandas as pd\n",
    "import altair as alt"
   ]
  },
  {
   "cell_type": "markdown",
   "metadata": {},
   "source": [
    "You can access the data used for our analysis through the footnote {% fn 1 %}. Let's read in the csv file as a *pandas* dataframe."
   ]
  },
  {
   "cell_type": "code",
   "execution_count": 2,
   "metadata": {},
   "outputs": [
    {
     "data": {
      "text/html": [
       "<div>\n",
       "<style scoped>\n",
       "    .dataframe tbody tr th:only-of-type {\n",
       "        vertical-align: middle;\n",
       "    }\n",
       "\n",
       "    .dataframe tbody tr th {\n",
       "        vertical-align: top;\n",
       "    }\n",
       "\n",
       "    .dataframe thead th {\n",
       "        text-align: right;\n",
       "    }\n",
       "</style>\n",
       "<table border=\"1\" class=\"dataframe\">\n",
       "  <thead>\n",
       "    <tr style=\"text-align: right;\">\n",
       "      <th></th>\n",
       "      <th>Unnamed: 0</th>\n",
       "      <th>Player</th>\n",
       "      <th>Tm</th>\n",
       "      <th>Pos</th>\n",
       "      <th>Age</th>\n",
       "      <th>G</th>\n",
       "      <th>GS</th>\n",
       "      <th>Cmp</th>\n",
       "      <th>Att</th>\n",
       "      <th>Yds</th>\n",
       "      <th>...</th>\n",
       "      <th>FumblesLost</th>\n",
       "      <th>PassingYds</th>\n",
       "      <th>PassingTD</th>\n",
       "      <th>PassingAtt</th>\n",
       "      <th>RushingYds</th>\n",
       "      <th>RushingTD</th>\n",
       "      <th>RushingAtt</th>\n",
       "      <th>ReceivingYds</th>\n",
       "      <th>ReceivingTD</th>\n",
       "      <th>FantasyPoints</th>\n",
       "    </tr>\n",
       "  </thead>\n",
       "  <tbody>\n",
       "    <tr>\n",
       "      <th>0</th>\n",
       "      <td>0</td>\n",
       "      <td>Christian McCaffrey</td>\n",
       "      <td>CAR</td>\n",
       "      <td>RB</td>\n",
       "      <td>23.0</td>\n",
       "      <td>16.0</td>\n",
       "      <td>16.0</td>\n",
       "      <td>0.0</td>\n",
       "      <td>2.0</td>\n",
       "      <td>0.0</td>\n",
       "      <td>...</td>\n",
       "      <td>0.0</td>\n",
       "      <td>0.0</td>\n",
       "      <td>0.0</td>\n",
       "      <td>2.0</td>\n",
       "      <td>1387.0</td>\n",
       "      <td>15.0</td>\n",
       "      <td>287.0</td>\n",
       "      <td>1005.0</td>\n",
       "      <td>4.0</td>\n",
       "      <td>469.20</td>\n",
       "    </tr>\n",
       "    <tr>\n",
       "      <th>1</th>\n",
       "      <td>1</td>\n",
       "      <td>Lamar Jackson</td>\n",
       "      <td>BAL</td>\n",
       "      <td>QB</td>\n",
       "      <td>22.0</td>\n",
       "      <td>15.0</td>\n",
       "      <td>15.0</td>\n",
       "      <td>265.0</td>\n",
       "      <td>401.0</td>\n",
       "      <td>3127.0</td>\n",
       "      <td>...</td>\n",
       "      <td>2.0</td>\n",
       "      <td>3127.0</td>\n",
       "      <td>36.0</td>\n",
       "      <td>401.0</td>\n",
       "      <td>1206.0</td>\n",
       "      <td>7.0</td>\n",
       "      <td>176.0</td>\n",
       "      <td>0.0</td>\n",
       "      <td>0.0</td>\n",
       "      <td>415.68</td>\n",
       "    </tr>\n",
       "    <tr>\n",
       "      <th>2</th>\n",
       "      <td>2</td>\n",
       "      <td>Derrick Henry</td>\n",
       "      <td>TEN</td>\n",
       "      <td>RB</td>\n",
       "      <td>25.0</td>\n",
       "      <td>15.0</td>\n",
       "      <td>15.0</td>\n",
       "      <td>0.0</td>\n",
       "      <td>0.0</td>\n",
       "      <td>0.0</td>\n",
       "      <td>...</td>\n",
       "      <td>3.0</td>\n",
       "      <td>0.0</td>\n",
       "      <td>0.0</td>\n",
       "      <td>0.0</td>\n",
       "      <td>1540.0</td>\n",
       "      <td>16.0</td>\n",
       "      <td>303.0</td>\n",
       "      <td>206.0</td>\n",
       "      <td>2.0</td>\n",
       "      <td>294.60</td>\n",
       "    </tr>\n",
       "    <tr>\n",
       "      <th>3</th>\n",
       "      <td>3</td>\n",
       "      <td>Aaron Jones</td>\n",
       "      <td>GNB</td>\n",
       "      <td>RB</td>\n",
       "      <td>25.0</td>\n",
       "      <td>16.0</td>\n",
       "      <td>16.0</td>\n",
       "      <td>0.0</td>\n",
       "      <td>0.0</td>\n",
       "      <td>0.0</td>\n",
       "      <td>...</td>\n",
       "      <td>2.0</td>\n",
       "      <td>0.0</td>\n",
       "      <td>0.0</td>\n",
       "      <td>0.0</td>\n",
       "      <td>1084.0</td>\n",
       "      <td>16.0</td>\n",
       "      <td>236.0</td>\n",
       "      <td>474.0</td>\n",
       "      <td>3.0</td>\n",
       "      <td>314.80</td>\n",
       "    </tr>\n",
       "    <tr>\n",
       "      <th>4</th>\n",
       "      <td>4</td>\n",
       "      <td>Ezekiel Elliott</td>\n",
       "      <td>DAL</td>\n",
       "      <td>RB</td>\n",
       "      <td>24.0</td>\n",
       "      <td>16.0</td>\n",
       "      <td>16.0</td>\n",
       "      <td>0.0</td>\n",
       "      <td>0.0</td>\n",
       "      <td>0.0</td>\n",
       "      <td>...</td>\n",
       "      <td>2.0</td>\n",
       "      <td>0.0</td>\n",
       "      <td>0.0</td>\n",
       "      <td>0.0</td>\n",
       "      <td>1357.0</td>\n",
       "      <td>12.0</td>\n",
       "      <td>301.0</td>\n",
       "      <td>420.0</td>\n",
       "      <td>2.0</td>\n",
       "      <td>311.70</td>\n",
       "    </tr>\n",
       "  </tbody>\n",
       "</table>\n",
       "<p>5 rows × 28 columns</p>\n",
       "</div>"
      ],
      "text/plain": [
       "   Unnamed: 0               Player   Tm Pos   Age     G    GS    Cmp    Att  \\\n",
       "0           0  Christian McCaffrey  CAR  RB  23.0  16.0  16.0    0.0    2.0   \n",
       "1           1        Lamar Jackson  BAL  QB  22.0  15.0  15.0  265.0  401.0   \n",
       "2           2        Derrick Henry  TEN  RB  25.0  15.0  15.0    0.0    0.0   \n",
       "3           3          Aaron Jones  GNB  RB  25.0  16.0  16.0    0.0    0.0   \n",
       "4           4      Ezekiel Elliott  DAL  RB  24.0  16.0  16.0    0.0    0.0   \n",
       "\n",
       "      Yds  ...  FumblesLost  PassingYds  PassingTD  PassingAtt  RushingYds  \\\n",
       "0     0.0  ...          0.0         0.0        0.0         2.0      1387.0   \n",
       "1  3127.0  ...          2.0      3127.0       36.0       401.0      1206.0   \n",
       "2     0.0  ...          3.0         0.0        0.0         0.0      1540.0   \n",
       "3     0.0  ...          2.0         0.0        0.0         0.0      1084.0   \n",
       "4     0.0  ...          2.0         0.0        0.0         0.0      1357.0   \n",
       "\n",
       "   RushingTD  RushingAtt  ReceivingYds  ReceivingTD  FantasyPoints  \n",
       "0       15.0       287.0        1005.0          4.0         469.20  \n",
       "1        7.0       176.0           0.0          0.0         415.68  \n",
       "2       16.0       303.0         206.0          2.0         294.60  \n",
       "3       16.0       236.0         474.0          3.0         314.80  \n",
       "4       12.0       301.0         420.0          2.0         311.70  \n",
       "\n",
       "[5 rows x 28 columns]"
      ]
     },
     "execution_count": 2,
     "metadata": {},
     "output_type": "execute_result"
    }
   ],
   "source": [
    "df = pd.read_csv('data/nfl_fantasy_2019.csv')\n",
    "df.head()"
   ]
  },
  {
   "cell_type": "markdown",
   "metadata": {},
   "source": [
    "Some columns are redundant while others don't have the best names. Let's get that fixed!"
   ]
  },
  {
   "cell_type": "code",
   "execution_count": 3,
   "metadata": {},
   "outputs": [
    {
     "name": "stdout",
     "output_type": "stream",
     "text": [
      "Index(['Player', 'Team', 'Position', 'Age', 'Games', 'GS', 'Cmp', 'Int', 'Tgt',\n",
      "       'Rec', 'Y/R', 'Fumbles', 'FumblesLost', 'PassingYds', 'PassingTD',\n",
      "       'PassingAtt', 'RushingYds', 'RushingTD', 'RushingAtt', 'ReceivingYds',\n",
      "       'ReceivingTD', 'FantasyPoints'],\n",
      "      dtype='object')\n"
     ]
    }
   ],
   "source": [
    "# Drop redundant columns\n",
    "df.drop(['Unnamed: 0', 'Att', 'Yds', 'Att.1', 'Yds.1', 'Yds.2'], axis=1, inplace=True)\n",
    "# Rename columns\n",
    "df.rename(columns = {'Tm': 'Team', 'Pos': 'Position', 'G': 'Games'}, inplace=True)\n",
    "# Print the updated columns\n",
    "print(df.columns)"
   ]
  },
  {
   "cell_type": "markdown",
   "metadata": {},
   "source": [
    "Numbers in most of the columns have decimals and are being treated as floating points. To save some memory and make things simpler, let's convert them to integers."
   ]
  },
  {
   "cell_type": "code",
   "execution_count": 4,
   "metadata": {},
   "outputs": [
    {
     "data": {
      "text/html": [
       "<div>\n",
       "<style scoped>\n",
       "    .dataframe tbody tr th:only-of-type {\n",
       "        vertical-align: middle;\n",
       "    }\n",
       "\n",
       "    .dataframe tbody tr th {\n",
       "        vertical-align: top;\n",
       "    }\n",
       "\n",
       "    .dataframe thead th {\n",
       "        text-align: right;\n",
       "    }\n",
       "</style>\n",
       "<table border=\"1\" class=\"dataframe\">\n",
       "  <thead>\n",
       "    <tr style=\"text-align: right;\">\n",
       "      <th></th>\n",
       "      <th>Player</th>\n",
       "      <th>Team</th>\n",
       "      <th>Position</th>\n",
       "      <th>Age</th>\n",
       "      <th>Games</th>\n",
       "      <th>GS</th>\n",
       "      <th>Cmp</th>\n",
       "      <th>Int</th>\n",
       "      <th>Tgt</th>\n",
       "      <th>Rec</th>\n",
       "      <th>...</th>\n",
       "      <th>FumblesLost</th>\n",
       "      <th>PassingYds</th>\n",
       "      <th>PassingTD</th>\n",
       "      <th>PassingAtt</th>\n",
       "      <th>RushingYds</th>\n",
       "      <th>RushingTD</th>\n",
       "      <th>RushingAtt</th>\n",
       "      <th>ReceivingYds</th>\n",
       "      <th>ReceivingTD</th>\n",
       "      <th>FantasyPoints</th>\n",
       "    </tr>\n",
       "  </thead>\n",
       "  <tbody>\n",
       "    <tr>\n",
       "      <th>0</th>\n",
       "      <td>Christian McCaffrey</td>\n",
       "      <td>CAR</td>\n",
       "      <td>RB</td>\n",
       "      <td>23</td>\n",
       "      <td>16</td>\n",
       "      <td>16</td>\n",
       "      <td>0</td>\n",
       "      <td>0</td>\n",
       "      <td>142</td>\n",
       "      <td>116</td>\n",
       "      <td>...</td>\n",
       "      <td>0</td>\n",
       "      <td>0</td>\n",
       "      <td>0</td>\n",
       "      <td>2</td>\n",
       "      <td>1387</td>\n",
       "      <td>15</td>\n",
       "      <td>287</td>\n",
       "      <td>1005</td>\n",
       "      <td>4</td>\n",
       "      <td>469</td>\n",
       "    </tr>\n",
       "  </tbody>\n",
       "</table>\n",
       "<p>1 rows × 22 columns</p>\n",
       "</div>"
      ],
      "text/plain": [
       "                Player Team Position  Age  Games  GS  Cmp  Int  Tgt  Rec  ...  \\\n",
       "0  Christian McCaffrey  CAR       RB   23     16  16    0    0  142  116  ...   \n",
       "\n",
       "   FumblesLost  PassingYds  PassingTD  PassingAtt  RushingYds  RushingTD  \\\n",
       "0            0           0          0           2        1387         15   \n",
       "\n",
       "   RushingAtt  ReceivingYds  ReceivingTD  FantasyPoints  \n",
       "0         287          1005            4            469  \n",
       "\n",
       "[1 rows x 22 columns]"
      ]
     },
     "execution_count": 4,
     "metadata": {},
     "output_type": "execute_result"
    }
   ],
   "source": [
    "# Convert float to int\n",
    "for row in df.columns:\n",
    "         if row not in ['Player', 'Team', 'Position', 'Fantasy Points']:\n",
    "             df[row] = df[row].astype('int32')\n",
    "df.head(1)"
   ]
  },
  {
   "cell_type": "markdown",
   "metadata": {},
   "source": [
    "We want to focus on running backs; let's filter them out and store this data in a new pandas dataframe."
   ]
  },
  {
   "cell_type": "code",
   "execution_count": 17,
   "metadata": {},
   "outputs": [
    {
     "name": "stdout",
     "output_type": "stream",
     "text": [
      "Total number of Running Backs: 153\n"
     ]
    }
   ],
   "source": [
    "rb_df = df.loc[df['Position'] == 'RB', ['Player', 'Team', 'Age', 'Games', 'GS', 'RushingAtt', 'Tgt', 'Rec', 'RushingYds', 'ReceivingYds', 'RushingTD', 'ReceivingTD', 'FantasyPoints']]\n",
    "print(f'Total number of Running Backs: {len(rb_df)}')"
   ]
  },
  {
   "cell_type": "markdown",
   "metadata": {},
   "source": [
    "After cleaning and filtering the data, we can begin defining new metrics that will help us compare the running backs."
   ]
  },
  {
   "cell_type": "code",
   "execution_count": 18,
   "metadata": {},
   "outputs": [
    {
     "data": {
      "text/html": [
       "<div>\n",
       "<style scoped>\n",
       "    .dataframe tbody tr th:only-of-type {\n",
       "        vertical-align: middle;\n",
       "    }\n",
       "\n",
       "    .dataframe tbody tr th {\n",
       "        vertical-align: top;\n",
       "    }\n",
       "\n",
       "    .dataframe thead th {\n",
       "        text-align: right;\n",
       "    }\n",
       "</style>\n",
       "<table border=\"1\" class=\"dataframe\">\n",
       "  <thead>\n",
       "    <tr style=\"text-align: right;\">\n",
       "      <th></th>\n",
       "      <th>Player</th>\n",
       "      <th>Team</th>\n",
       "      <th>Age</th>\n",
       "      <th>Games</th>\n",
       "      <th>GS</th>\n",
       "      <th>RushingAtt</th>\n",
       "      <th>Tgt</th>\n",
       "      <th>Rec</th>\n",
       "      <th>RushingYds</th>\n",
       "      <th>ReceivingYds</th>\n",
       "      <th>RushingTD</th>\n",
       "      <th>ReceivingTD</th>\n",
       "      <th>FantasyPoints</th>\n",
       "      <th>Usage</th>\n",
       "      <th>Yds</th>\n",
       "      <th>TD</th>\n",
       "      <th>Rank</th>\n",
       "    </tr>\n",
       "  </thead>\n",
       "  <tbody>\n",
       "    <tr>\n",
       "      <th>0</th>\n",
       "      <td>Christian McCaffrey</td>\n",
       "      <td>CAR</td>\n",
       "      <td>23</td>\n",
       "      <td>16</td>\n",
       "      <td>16</td>\n",
       "      <td>287</td>\n",
       "      <td>142</td>\n",
       "      <td>116</td>\n",
       "      <td>1387</td>\n",
       "      <td>1005</td>\n",
       "      <td>15</td>\n",
       "      <td>4</td>\n",
       "      <td>469</td>\n",
       "      <td>429</td>\n",
       "      <td>2392</td>\n",
       "      <td>19</td>\n",
       "      <td>1</td>\n",
       "    </tr>\n",
       "    <tr>\n",
       "      <th>3</th>\n",
       "      <td>Aaron Jones</td>\n",
       "      <td>GNB</td>\n",
       "      <td>25</td>\n",
       "      <td>16</td>\n",
       "      <td>16</td>\n",
       "      <td>236</td>\n",
       "      <td>68</td>\n",
       "      <td>49</td>\n",
       "      <td>1084</td>\n",
       "      <td>474</td>\n",
       "      <td>16</td>\n",
       "      <td>3</td>\n",
       "      <td>314</td>\n",
       "      <td>304</td>\n",
       "      <td>1558</td>\n",
       "      <td>19</td>\n",
       "      <td>2</td>\n",
       "    </tr>\n",
       "    <tr>\n",
       "      <th>4</th>\n",
       "      <td>Ezekiel Elliott</td>\n",
       "      <td>DAL</td>\n",
       "      <td>24</td>\n",
       "      <td>16</td>\n",
       "      <td>16</td>\n",
       "      <td>301</td>\n",
       "      <td>71</td>\n",
       "      <td>54</td>\n",
       "      <td>1357</td>\n",
       "      <td>420</td>\n",
       "      <td>12</td>\n",
       "      <td>2</td>\n",
       "      <td>311</td>\n",
       "      <td>372</td>\n",
       "      <td>1777</td>\n",
       "      <td>14</td>\n",
       "      <td>3</td>\n",
       "    </tr>\n",
       "  </tbody>\n",
       "</table>\n",
       "</div>"
      ],
      "text/plain": [
       "                Player Team  Age  Games  GS  RushingAtt  Tgt  Rec  RushingYds  \\\n",
       "0  Christian McCaffrey  CAR   23     16  16         287  142  116        1387   \n",
       "3          Aaron Jones  GNB   25     16  16         236   68   49        1084   \n",
       "4      Ezekiel Elliott  DAL   24     16  16         301   71   54        1357   \n",
       "\n",
       "   ReceivingYds  RushingTD  ReceivingTD  FantasyPoints  Usage   Yds  TD  Rank  \n",
       "0          1005         15            4            469    429  2392  19     1  \n",
       "3           474         16            3            314    304  1558  19     2  \n",
       "4           420         12            2            311    372  1777  14     3  "
      ]
     },
     "execution_count": 18,
     "metadata": {},
     "output_type": "execute_result"
    }
   ],
   "source": [
    "# collapse\n",
    "rb_df['Usage'] = rb_df['RushingAtt'] + rb_df['Tgt']\n",
    "rb_df['Yds'] = rb_df['RushingYds'] + rb_df['ReceivingYds']\n",
    "rb_df['TD'] = rb_df['RushingTD'] + rb_df['ReceivingTD']\n",
    "rb_df['Rank'] = rb_df['FantasyPoints'].rank(ascending=False).astype('int32')\n",
    "rb_df.sort_values('Rank', inplace=True)\n",
    "rb_df.head(3)"
   ]
  },
  {
   "cell_type": "markdown",
   "metadata": {},
   "source": [
    "Time for some interactive charts!"
   ]
  },
  {
   "cell_type": "code",
   "execution_count": 19,
   "metadata": {},
   "outputs": [
    {
     "data": {
      "text/html": [
       "\n",
       "<div id=\"altair-viz-a0d1cfbfacf0490d8cfb88f53d94aa4a\"></div>\n",
       "<script type=\"text/javascript\">\n",
       "  (function(spec, embedOpt){\n",
       "    let outputDiv = document.currentScript.previousElementSibling;\n",
       "    if (outputDiv.id !== \"altair-viz-a0d1cfbfacf0490d8cfb88f53d94aa4a\") {\n",
       "      outputDiv = document.getElementById(\"altair-viz-a0d1cfbfacf0490d8cfb88f53d94aa4a\");\n",
       "    }\n",
       "    const paths = {\n",
       "      \"vega\": \"https://cdn.jsdelivr.net/npm//vega@5?noext\",\n",
       "      \"vega-lib\": \"https://cdn.jsdelivr.net/npm//vega-lib?noext\",\n",
       "      \"vega-lite\": \"https://cdn.jsdelivr.net/npm//vega-lite@4.8.1?noext\",\n",
       "      \"vega-embed\": \"https://cdn.jsdelivr.net/npm//vega-embed@6?noext\",\n",
       "    };\n",
       "\n",
       "    function loadScript(lib) {\n",
       "      return new Promise(function(resolve, reject) {\n",
       "        var s = document.createElement('script');\n",
       "        s.src = paths[lib];\n",
       "        s.async = true;\n",
       "        s.onload = () => resolve(paths[lib]);\n",
       "        s.onerror = () => reject(`Error loading script: ${paths[lib]}`);\n",
       "        document.getElementsByTagName(\"head\")[0].appendChild(s);\n",
       "      });\n",
       "    }\n",
       "\n",
       "    function showError(err) {\n",
       "      outputDiv.innerHTML = `<div class=\"error\" style=\"color:red;\">${err}</div>`;\n",
       "      throw err;\n",
       "    }\n",
       "\n",
       "    function displayChart(vegaEmbed) {\n",
       "      vegaEmbed(outputDiv, spec, embedOpt)\n",
       "        .catch(err => showError(`Javascript Error: ${err.message}<br>This usually means there's a typo in your chart specification. See the javascript console for the full traceback.`));\n",
       "    }\n",
       "\n",
       "    if(typeof define === \"function\" && define.amd) {\n",
       "      requirejs.config({paths});\n",
       "      require([\"vega-embed\"], displayChart, err => showError(`Error loading script: ${err.message}`));\n",
       "    } else if (typeof vegaEmbed === \"function\") {\n",
       "      displayChart(vegaEmbed);\n",
       "    } else {\n",
       "      loadScript(\"vega\")\n",
       "        .then(() => loadScript(\"vega-lite\"))\n",
       "        .then(() => loadScript(\"vega-embed\"))\n",
       "        .catch(showError)\n",
       "        .then(() => displayChart(vegaEmbed));\n",
       "    }\n",
       "  })({\"config\": {\"view\": {\"continuousWidth\": 400, \"continuousHeight\": 300}, \"axis\": {\"titleFontSize\": 14, \"titleFontWeight\": 500}, \"title\": {\"fontSize\": 18}}, \"data\": {\"name\": \"data-dfcfa295ea89f17d8fa66b54d3f1c642\"}, \"mark\": \"point\", \"encoding\": {\"tooltip\": [{\"type\": \"nominal\", \"field\": \"Player\"}, {\"type\": \"quantitative\", \"field\": \"Rank\"}, {\"type\": \"quantitative\", \"field\": \"Age\"}, {\"type\": \"quantitative\", \"field\": \"Yds\"}, {\"type\": \"quantitative\", \"field\": \"TD\"}, {\"type\": \"quantitative\", \"field\": \"Usage\"}, {\"type\": \"quantitative\", \"field\": \"FantasyPoints\"}], \"x\": {\"type\": \"quantitative\", \"field\": \"Usage\", \"title\": \"Usage (Rushing Attempts + Targets)\"}, \"y\": {\"type\": \"quantitative\", \"field\": \"FantasyPoints\", \"title\": \"Fantasy Points Scored\"}}, \"selection\": {\"selector002\": {\"type\": \"interval\", \"bind\": \"scales\", \"encodings\": [\"x\", \"y\"]}}, \"title\": \"Running Back Usage vs. Production - 2019 NFL Season\", \"width\": 700, \"$schema\": \"https://vega.github.io/schema/vega-lite/v4.8.1.json\", \"datasets\": {\"data-dfcfa295ea89f17d8fa66b54d3f1c642\": [{\"Player\": \"Christian McCaffrey\", \"Team\": \"CAR\", \"Age\": 23, \"Games\": 16, \"GS\": 16, \"RushingAtt\": 287, \"Tgt\": 142, \"Rec\": 116, \"RushingYds\": 1387, \"ReceivingYds\": 1005, \"RushingTD\": 15, \"ReceivingTD\": 4, \"FantasyPoints\": 469, \"Usage\": 429, \"Yds\": 2392, \"TD\": 19, \"Rank\": 1}, {\"Player\": \"Aaron Jones\", \"Team\": \"GNB\", \"Age\": 25, \"Games\": 16, \"GS\": 16, \"RushingAtt\": 236, \"Tgt\": 68, \"Rec\": 49, \"RushingYds\": 1084, \"ReceivingYds\": 474, \"RushingTD\": 16, \"ReceivingTD\": 3, \"FantasyPoints\": 314, \"Usage\": 304, \"Yds\": 1558, \"TD\": 19, \"Rank\": 2}, {\"Player\": \"Ezekiel Elliott\", \"Team\": \"DAL\", \"Age\": 24, \"Games\": 16, \"GS\": 16, \"RushingAtt\": 301, \"Tgt\": 71, \"Rec\": 54, \"RushingYds\": 1357, \"ReceivingYds\": 420, \"RushingTD\": 12, \"ReceivingTD\": 2, \"FantasyPoints\": 311, \"Usage\": 372, \"Yds\": 1777, \"TD\": 14, \"Rank\": 3}, {\"Player\": \"Austin Ekeler\", \"Team\": \"LAC\", \"Age\": 24, \"Games\": 16, \"GS\": 8, \"RushingAtt\": 132, \"Tgt\": 108, \"Rec\": 92, \"RushingYds\": 557, \"ReceivingYds\": 993, \"RushingTD\": 3, \"ReceivingTD\": 8, \"FantasyPoints\": 309, \"Usage\": 240, \"Yds\": 1550, \"TD\": 11, \"Rank\": 4}, {\"Player\": \"Derrick Henry\", \"Team\": \"TEN\", \"Age\": 25, \"Games\": 15, \"GS\": 15, \"RushingAtt\": 303, \"Tgt\": 24, \"Rec\": 18, \"RushingYds\": 1540, \"ReceivingYds\": 206, \"RushingTD\": 16, \"ReceivingTD\": 2, \"FantasyPoints\": 294, \"Usage\": 327, \"Yds\": 1746, \"TD\": 18, \"Rank\": 5}, {\"Player\": \"Dalvin Cook\", \"Team\": \"MIN\", \"Age\": 24, \"Games\": 14, \"GS\": 14, \"RushingAtt\": 250, \"Tgt\": 63, \"Rec\": 53, \"RushingYds\": 1135, \"ReceivingYds\": 519, \"RushingTD\": 13, \"ReceivingTD\": 0, \"FantasyPoints\": 292, \"Usage\": 313, \"Yds\": 1654, \"TD\": 13, \"Rank\": 6}, {\"Player\": \"Leonard Fournette\", \"Team\": \"JAX\", \"Age\": 24, \"Games\": 15, \"GS\": 15, \"RushingAtt\": 265, \"Tgt\": 100, \"Rec\": 76, \"RushingYds\": 1152, \"ReceivingYds\": 522, \"RushingTD\": 3, \"ReceivingTD\": 0, \"FantasyPoints\": 259, \"Usage\": 365, \"Yds\": 1674, \"TD\": 3, \"Rank\": 7}, {\"Player\": \"Nick Chubb\", \"Team\": \"CLE\", \"Age\": 24, \"Games\": 16, \"GS\": 16, \"RushingAtt\": 298, \"Tgt\": 49, \"Rec\": 36, \"RushingYds\": 1494, \"ReceivingYds\": 278, \"RushingTD\": 8, \"ReceivingTD\": 0, \"FantasyPoints\": 255, \"Usage\": 347, \"Yds\": 1772, \"TD\": 8, \"Rank\": 8}, {\"Player\": \"Alvin Kamara\", \"Team\": \"NOR\", \"Age\": 24, \"Games\": 14, \"GS\": 9, \"RushingAtt\": 171, \"Tgt\": 97, \"Rec\": 81, \"RushingYds\": 797, \"ReceivingYds\": 533, \"RushingTD\": 5, \"ReceivingTD\": 1, \"FantasyPoints\": 248, \"Usage\": 268, \"Yds\": 1330, \"TD\": 6, \"Rank\": 9}, {\"Player\": \"Saquon Barkley\", \"Team\": \"NYG\", \"Age\": 22, \"Games\": 13, \"GS\": 13, \"RushingAtt\": 217, \"Tgt\": 73, \"Rec\": 52, \"RushingYds\": 1003, \"ReceivingYds\": 438, \"RushingTD\": 6, \"ReceivingTD\": 2, \"FantasyPoints\": 244, \"Usage\": 290, \"Yds\": 1441, \"TD\": 8, \"Rank\": 10}, {\"Player\": \"Mark Ingram\", \"Team\": \"BAL\", \"Age\": 30, \"Games\": 15, \"GS\": 15, \"RushingAtt\": 202, \"Tgt\": 29, \"Rec\": 26, \"RushingYds\": 1018, \"ReceivingYds\": 247, \"RushingTD\": 10, \"ReceivingTD\": 5, \"FantasyPoints\": 238, \"Usage\": 231, \"Yds\": 1265, \"TD\": 15, \"Rank\": 11}, {\"Player\": \"Chris Carson\", \"Team\": \"SEA\", \"Age\": 25, \"Games\": 15, \"GS\": 15, \"RushingAtt\": 278, \"Tgt\": 47, \"Rec\": 37, \"RushingYds\": 1230, \"ReceivingYds\": 266, \"RushingTD\": 7, \"ReceivingTD\": 2, \"FantasyPoints\": 232, \"Usage\": 325, \"Yds\": 1496, \"TD\": 9, \"Rank\": 12}, {\"Player\": \"Joe Mixon\", \"Team\": \"CIN\", \"Age\": 23, \"Games\": 16, \"GS\": 15, \"RushingAtt\": 278, \"Tgt\": 45, \"Rec\": 35, \"RushingYds\": 1137, \"ReceivingYds\": 287, \"RushingTD\": 5, \"ReceivingTD\": 3, \"FantasyPoints\": 225, \"Usage\": 323, \"Yds\": 1424, \"TD\": 8, \"Rank\": 13}, {\"Player\": \"Todd Gurley\", \"Team\": \"LAR\", \"Age\": 25, \"Games\": 15, \"GS\": 15, \"RushingAtt\": 223, \"Tgt\": 49, \"Rec\": 31, \"RushingYds\": 857, \"ReceivingYds\": 207, \"RushingTD\": 12, \"ReceivingTD\": 2, \"FantasyPoints\": 217, \"Usage\": 272, \"Yds\": 1064, \"TD\": 14, \"Rank\": 14}, {\"Player\": \"Miles Sanders\", \"Team\": \"PHI\", \"Age\": 22, \"Games\": 16, \"GS\": 11, \"RushingAtt\": 179, \"Tgt\": 63, \"Rec\": 50, \"RushingYds\": 818, \"ReceivingYds\": 509, \"RushingTD\": 3, \"ReceivingTD\": 3, \"FantasyPoints\": 216, \"Usage\": 242, \"Yds\": 1327, \"TD\": 6, \"Rank\": 15}, {\"Player\": \"Le'Veon Bell\", \"Team\": \"NYJ\", \"Age\": 27, \"Games\": 15, \"GS\": 15, \"RushingAtt\": 245, \"Tgt\": 78, \"Rec\": 66, \"RushingYds\": 789, \"ReceivingYds\": 461, \"RushingTD\": 3, \"ReceivingTD\": 1, \"FantasyPoints\": 213, \"Usage\": 323, \"Yds\": 1250, \"TD\": 4, \"Rank\": 16}, {\"Player\": \"Kenyan Drake\", \"Team\": \"2TM\", \"Age\": 25, \"Games\": 14, \"GS\": 10, \"RushingAtt\": 170, \"Tgt\": 68, \"Rec\": 50, \"RushingYds\": 817, \"ReceivingYds\": 345, \"RushingTD\": 8, \"ReceivingTD\": 0, \"FantasyPoints\": 212, \"Usage\": 238, \"Yds\": 1162, \"TD\": 8, \"Rank\": 17}, {\"Player\": \"James White\", \"Team\": \"NWE\", \"Age\": 27, \"Games\": 15, \"GS\": 1, \"RushingAtt\": 67, \"Tgt\": 95, \"Rec\": 72, \"RushingYds\": 263, \"ReceivingYds\": 645, \"RushingTD\": 1, \"ReceivingTD\": 5, \"FantasyPoints\": 198, \"Usage\": 162, \"Yds\": 908, \"TD\": 6, \"Rank\": 18}, {\"Player\": \"Phillip Lindsay\", \"Team\": \"DEN\", \"Age\": 25, \"Games\": 16, \"GS\": 16, \"RushingAtt\": 224, \"Tgt\": 48, \"Rec\": 35, \"RushingYds\": 1011, \"ReceivingYds\": 196, \"RushingTD\": 7, \"ReceivingTD\": 0, \"FantasyPoints\": 197, \"Usage\": 272, \"Yds\": 1207, \"TD\": 7, \"Rank\": 19}, {\"Player\": \"Devonta Freeman\", \"Team\": \"ATL\", \"Age\": 27, \"Games\": 14, \"GS\": 14, \"RushingAtt\": 184, \"Tgt\": 70, \"Rec\": 59, \"RushingYds\": 656, \"ReceivingYds\": 410, \"RushingTD\": 2, \"ReceivingTD\": 4, \"FantasyPoints\": 197, \"Usage\": 254, \"Yds\": 1066, \"TD\": 6, \"Rank\": 19}, {\"Player\": \"Josh Jacobs\", \"Team\": \"OAK\", \"Age\": 21, \"Games\": 13, \"GS\": 13, \"RushingAtt\": 242, \"Tgt\": 27, \"Rec\": 20, \"RushingYds\": 1150, \"ReceivingYds\": 166, \"RushingTD\": 7, \"ReceivingTD\": 0, \"FantasyPoints\": 191, \"Usage\": 269, \"Yds\": 1316, \"TD\": 7, \"Rank\": 21}, {\"Player\": \"Melvin Gordon\", \"Team\": \"LAC\", \"Age\": 26, \"Games\": 12, \"GS\": 11, \"RushingAtt\": 162, \"Tgt\": 55, \"Rec\": 42, \"RushingYds\": 612, \"ReceivingYds\": 296, \"RushingTD\": 8, \"ReceivingTD\": 1, \"FantasyPoints\": 180, \"Usage\": 217, \"Yds\": 908, \"TD\": 9, \"Rank\": 22}, {\"Player\": \"Marlon Mack\", \"Team\": \"IND\", \"Age\": 23, \"Games\": 14, \"GS\": 12, \"RushingAtt\": 247, \"Tgt\": 17, \"Rec\": 14, \"RushingYds\": 1091, \"ReceivingYds\": 82, \"RushingTD\": 8, \"ReceivingTD\": 0, \"FantasyPoints\": 179, \"Usage\": 264, \"Yds\": 1173, \"TD\": 8, \"Rank\": 23}, {\"Player\": \"David Montgomery\", \"Team\": \"CHI\", \"Age\": 22, \"Games\": 16, \"GS\": 8, \"RushingAtt\": 242, \"Tgt\": 35, \"Rec\": 25, \"RushingYds\": 889, \"ReceivingYds\": 185, \"RushingTD\": 6, \"ReceivingTD\": 1, \"FantasyPoints\": 170, \"Usage\": 277, \"Yds\": 1074, \"TD\": 7, \"Rank\": 24}, {\"Player\": \"Ronald Jones\", \"Team\": \"TAM\", \"Age\": 22, \"Games\": 16, \"GS\": 9, \"RushingAtt\": 172, \"Tgt\": 40, \"Rec\": 31, \"RushingYds\": 724, \"ReceivingYds\": 309, \"RushingTD\": 6, \"ReceivingTD\": 0, \"FantasyPoints\": 166, \"Usage\": 212, \"Yds\": 1033, \"TD\": 6, \"Rank\": 25}, {\"Player\": \"Raheem Mostert\", \"Team\": \"SFO\", \"Age\": 27, \"Games\": 16, \"GS\": 0, \"RushingAtt\": 137, \"Tgt\": 22, \"Rec\": 14, \"RushingYds\": 772, \"ReceivingYds\": 180, \"RushingTD\": 8, \"ReceivingTD\": 2, \"FantasyPoints\": 165, \"Usage\": 159, \"Yds\": 952, \"TD\": 10, \"Rank\": 26}, {\"Player\": \"Tarik Cohen\", \"Team\": \"CHI\", \"Age\": 24, \"Games\": 16, \"GS\": 11, \"RushingAtt\": 64, \"Tgt\": 104, \"Rec\": 79, \"RushingYds\": 213, \"ReceivingYds\": 456, \"RushingTD\": 0, \"ReceivingTD\": 3, \"FantasyPoints\": 163, \"Usage\": 168, \"Yds\": 669, \"TD\": 3, \"Rank\": 27}, {\"Player\": \"Latavius Murray\", \"Team\": \"NOR\", \"Age\": 29, \"Games\": 16, \"GS\": 8, \"RushingAtt\": 146, \"Tgt\": 43, \"Rec\": 34, \"RushingYds\": 637, \"ReceivingYds\": 235, \"RushingTD\": 5, \"ReceivingTD\": 1, \"FantasyPoints\": 157, \"Usage\": 189, \"Yds\": 872, \"TD\": 6, \"Rank\": 28}, {\"Player\": \"Duke Johnson\", \"Team\": \"HOU\", \"Age\": 26, \"Games\": 16, \"GS\": 2, \"RushingAtt\": 83, \"Tgt\": 62, \"Rec\": 44, \"RushingYds\": 410, \"ReceivingYds\": 410, \"RushingTD\": 2, \"ReceivingTD\": 3, \"FantasyPoints\": 154, \"Usage\": 145, \"Yds\": 820, \"TD\": 5, \"Rank\": 29}, {\"Player\": \"Carlos Hyde\", \"Team\": \"HOU\", \"Age\": 29, \"Games\": 16, \"GS\": 14, \"RushingAtt\": 245, \"Tgt\": 16, \"Rec\": 10, \"RushingYds\": 1070, \"ReceivingYds\": 42, \"RushingTD\": 6, \"ReceivingTD\": 0, \"FantasyPoints\": 153, \"Usage\": 261, \"Yds\": 1112, \"TD\": 6, \"Rank\": 30}, {\"Player\": \"Sony Michel\", \"Team\": \"NWE\", \"Age\": 24, \"Games\": 16, \"GS\": 14, \"RushingAtt\": 247, \"Tgt\": 20, \"Rec\": 12, \"RushingYds\": 912, \"ReceivingYds\": 94, \"RushingTD\": 7, \"ReceivingTD\": 0, \"FantasyPoints\": 152, \"Usage\": 267, \"Yds\": 1006, \"TD\": 7, \"Rank\": 31}, {\"Player\": \"Adrian Peterson\", \"Team\": \"WAS\", \"Age\": 34, \"Games\": 15, \"GS\": 15, \"RushingAtt\": 211, \"Tgt\": 23, \"Rec\": 17, \"RushingYds\": 898, \"ReceivingYds\": 142, \"RushingTD\": 5, \"ReceivingTD\": 0, \"FantasyPoints\": 147, \"Usage\": 234, \"Yds\": 1040, \"TD\": 5, \"Rank\": 32}, {\"Player\": \"Devin Singletary\", \"Team\": \"BUF\", \"Age\": 22, \"Games\": 12, \"GS\": 8, \"RushingAtt\": 151, \"Tgt\": 41, \"Rec\": 29, \"RushingYds\": 775, \"ReceivingYds\": 194, \"RushingTD\": 2, \"ReceivingTD\": 2, \"FantasyPoints\": 147, \"Usage\": 192, \"Yds\": 969, \"TD\": 4, \"Rank\": 32}, {\"Player\": \"Jamaal Williams\", \"Team\": \"GNB\", \"Age\": 24, \"Games\": 14, \"GS\": 2, \"RushingAtt\": 107, \"Tgt\": 45, \"Rec\": 39, \"RushingYds\": 460, \"ReceivingYds\": 253, \"RushingTD\": 1, \"ReceivingTD\": 5, \"FantasyPoints\": 146, \"Usage\": 152, \"Yds\": 713, \"TD\": 6, \"Rank\": 34}, {\"Player\": \"James Conner\", \"Team\": \"PIT\", \"Age\": 24, \"Games\": 10, \"GS\": 10, \"RushingAtt\": 116, \"Tgt\": 38, \"Rec\": 34, \"RushingYds\": 464, \"ReceivingYds\": 251, \"RushingTD\": 4, \"ReceivingTD\": 3, \"FantasyPoints\": 145, \"Usage\": 154, \"Yds\": 715, \"TD\": 7, \"Rank\": 35}, {\"Player\": \"Royce Freeman\", \"Team\": \"DEN\", \"Age\": 23, \"Games\": 16, \"GS\": 0, \"RushingAtt\": 132, \"Tgt\": 50, \"Rec\": 43, \"RushingYds\": 496, \"ReceivingYds\": 256, \"RushingTD\": 3, \"ReceivingTD\": 1, \"FantasyPoints\": 142, \"Usage\": 182, \"Yds\": 752, \"TD\": 4, \"Rank\": 36}, {\"Player\": \"Damien Williams\", \"Team\": \"KAN\", \"Age\": 27, \"Games\": 11, \"GS\": 6, \"RushingAtt\": 111, \"Tgt\": 37, \"Rec\": 30, \"RushingYds\": 498, \"ReceivingYds\": 213, \"RushingTD\": 5, \"ReceivingTD\": 2, \"FantasyPoints\": 141, \"Usage\": 148, \"Yds\": 711, \"TD\": 7, \"Rank\": 37}, {\"Player\": \"David Johnson\", \"Team\": \"ARI\", \"Age\": 28, \"Games\": 13, \"GS\": 9, \"RushingAtt\": 94, \"Tgt\": 47, \"Rec\": 36, \"RushingYds\": 345, \"ReceivingYds\": 370, \"RushingTD\": 2, \"ReceivingTD\": 4, \"FantasyPoints\": 141, \"Usage\": 141, \"Yds\": 715, \"TD\": 6, \"Rank\": 37}, {\"Player\": \"Tevin Coleman\", \"Team\": \"SFO\", \"Age\": 26, \"Games\": 14, \"GS\": 11, \"RushingAtt\": 137, \"Tgt\": 30, \"Rec\": 21, \"RushingYds\": 544, \"ReceivingYds\": 180, \"RushingTD\": 6, \"ReceivingTD\": 1, \"FantasyPoints\": 135, \"Usage\": 167, \"Yds\": 724, \"TD\": 7, \"Rank\": 39}, {\"Player\": \"DeAndre Washington\", \"Team\": \"OAK\", \"Age\": 26, \"Games\": 16, \"GS\": 3, \"RushingAtt\": 108, \"Tgt\": 41, \"Rec\": 36, \"RushingYds\": 387, \"ReceivingYds\": 292, \"RushingTD\": 3, \"ReceivingTD\": 0, \"FantasyPoints\": 121, \"Usage\": 149, \"Yds\": 679, \"TD\": 3, \"Rank\": 40}, {\"Player\": \"LeSean McCoy\", \"Team\": \"KAN\", \"Age\": 31, \"Games\": 13, \"GS\": 9, \"RushingAtt\": 101, \"Tgt\": 34, \"Rec\": 28, \"RushingYds\": 465, \"ReceivingYds\": 181, \"RushingTD\": 4, \"ReceivingTD\": 1, \"FantasyPoints\": 118, \"Usage\": 135, \"Yds\": 646, \"TD\": 5, \"Rank\": 41}, {\"Player\": \"Peyton Barber\", \"Team\": \"TAM\", \"Age\": 25, \"Games\": 16, \"GS\": 7, \"RushingAtt\": 154, \"Tgt\": 24, \"Rec\": 16, \"RushingYds\": 470, \"ReceivingYds\": 115, \"RushingTD\": 6, \"ReceivingTD\": 1, \"FantasyPoints\": 114, \"Usage\": 178, \"Yds\": 585, \"TD\": 7, \"Rank\": 42}, {\"Player\": \"Jordan Howard\", \"Team\": \"PHI\", \"Age\": 25, \"Games\": 10, \"GS\": 4, \"RushingAtt\": 119, \"Tgt\": 14, \"Rec\": 10, \"RushingYds\": 525, \"ReceivingYds\": 69, \"RushingTD\": 6, \"ReceivingTD\": 1, \"FantasyPoints\": 111, \"Usage\": 133, \"Yds\": 594, \"TD\": 7, \"Rank\": 43}, {\"Player\": \"Nyheim Hines\", \"Team\": \"IND\", \"Age\": 23, \"Games\": 16, \"GS\": 2, \"RushingAtt\": 52, \"Tgt\": 58, \"Rec\": 44, \"RushingYds\": 199, \"ReceivingYds\": 320, \"RushingTD\": 2, \"ReceivingTD\": 0, \"FantasyPoints\": 105, \"Usage\": 110, \"Yds\": 519, \"TD\": 2, \"Rank\": 44}, {\"Player\": \"Jaylen Samuels\", \"Team\": \"PIT\", \"Age\": 23, \"Games\": 14, \"GS\": 4, \"RushingAtt\": 66, \"Tgt\": 57, \"Rec\": 47, \"RushingYds\": 175, \"ReceivingYds\": 305, \"RushingTD\": 1, \"ReceivingTD\": 1, \"FantasyPoints\": 104, \"Usage\": 123, \"Yds\": 480, \"TD\": 2, \"Rank\": 45}, {\"Player\": \"Matt Breida\", \"Team\": \"SFO\", \"Age\": 24, \"Games\": 13, \"GS\": 5, \"RushingAtt\": 123, \"Tgt\": 22, \"Rec\": 19, \"RushingYds\": 623, \"ReceivingYds\": 120, \"RushingTD\": 1, \"ReceivingTD\": 1, \"FantasyPoints\": 103, \"Usage\": 145, \"Yds\": 743, \"TD\": 2, \"Rank\": 46}, {\"Player\": \"Kareem Hunt\", \"Team\": \"CLE\", \"Age\": 24, \"Games\": 8, \"GS\": 3, \"RushingAtt\": 43, \"Tgt\": 44, \"Rec\": 37, \"RushingYds\": 179, \"ReceivingYds\": 285, \"RushingTD\": 2, \"ReceivingTD\": 1, \"FantasyPoints\": 101, \"Usage\": 87, \"Yds\": 464, \"TD\": 3, \"Rank\": 47}, {\"Player\": \"Rex Burkhead\", \"Team\": \"NWE\", \"Age\": 29, \"Games\": 13, \"GS\": 1, \"RushingAtt\": 65, \"Tgt\": 38, \"Rec\": 27, \"RushingYds\": 302, \"ReceivingYds\": 279, \"RushingTD\": 3, \"ReceivingTD\": 0, \"FantasyPoints\": 101, \"Usage\": 103, \"Yds\": 581, \"TD\": 3, \"Rank\": 47}, {\"Player\": \"Boston Scott\", \"Team\": \"PHI\", \"Age\": 24, \"Games\": 11, \"GS\": 2, \"RushingAtt\": 61, \"Tgt\": 26, \"Rec\": 24, \"RushingYds\": 245, \"ReceivingYds\": 204, \"RushingTD\": 5, \"ReceivingTD\": 0, \"FantasyPoints\": 96, \"Usage\": 87, \"Yds\": 449, \"TD\": 5, \"Rank\": 49}, {\"Player\": \"Frank Gore\", \"Team\": \"BUF\", \"Age\": 36, \"Games\": 16, \"GS\": 8, \"RushingAtt\": 166, \"Tgt\": 16, \"Rec\": 13, \"RushingYds\": 599, \"ReceivingYds\": 100, \"RushingTD\": 2, \"ReceivingTD\": 0, \"FantasyPoints\": 94, \"Usage\": 182, \"Yds\": 699, \"TD\": 2, \"Rank\": 50}, {\"Player\": \"Chris Thompson\", \"Team\": \"WAS\", \"Age\": 29, \"Games\": 11, \"GS\": 0, \"RushingAtt\": 37, \"Tgt\": 58, \"Rec\": 42, \"RushingYds\": 138, \"ReceivingYds\": 378, \"RushingTD\": 0, \"ReceivingTD\": 0, \"FantasyPoints\": 93, \"Usage\": 95, \"Yds\": 516, \"TD\": 0, \"Rank\": 51}, {\"Player\": \"Gus Edwards\", \"Team\": \"BAL\", \"Age\": 24, \"Games\": 16, \"GS\": 1, \"RushingAtt\": 133, \"Tgt\": 7, \"Rec\": 7, \"RushingYds\": 711, \"ReceivingYds\": 45, \"RushingTD\": 2, \"ReceivingTD\": 0, \"FantasyPoints\": 92, \"Usage\": 140, \"Yds\": 756, \"TD\": 2, \"Rank\": 52}, {\"Player\": \"Tony Pollard\", \"Team\": \"DAL\", \"Age\": 22, \"Games\": 15, \"GS\": 0, \"RushingAtt\": 86, \"Tgt\": 20, \"Rec\": 15, \"RushingYds\": 455, \"ReceivingYds\": 107, \"RushingTD\": 2, \"ReceivingTD\": 1, \"FantasyPoints\": 87, \"Usage\": 106, \"Yds\": 562, \"TD\": 3, \"Rank\": 53}, {\"Player\": \"Kerryon Johnson\", \"Team\": \"DET\", \"Age\": 22, \"Games\": 8, \"GS\": 7, \"RushingAtt\": 113, \"Tgt\": 15, \"Rec\": 10, \"RushingYds\": 403, \"ReceivingYds\": 127, \"RushingTD\": 3, \"ReceivingTD\": 1, \"FantasyPoints\": 85, \"Usage\": 128, \"Yds\": 530, \"TD\": 4, \"Rank\": 54}, {\"Player\": \"J.D. McKissic\", \"Team\": \"DET\", \"Age\": 26, \"Games\": 16, \"GS\": 3, \"RushingAtt\": 38, \"Tgt\": 42, \"Rec\": 34, \"RushingYds\": 205, \"ReceivingYds\": 233, \"RushingTD\": 0, \"ReceivingTD\": 1, \"FantasyPoints\": 83, \"Usage\": 80, \"Yds\": 438, \"TD\": 1, \"Rank\": 55}, {\"Player\": \"Chase Edmonds\", \"Team\": \"ARI\", \"Age\": 23, \"Games\": 13, \"GS\": 2, \"RushingAtt\": 60, \"Tgt\": 21, \"Rec\": 12, \"RushingYds\": 303, \"ReceivingYds\": 105, \"RushingTD\": 4, \"ReceivingTD\": 1, \"FantasyPoints\": 82, \"Usage\": 81, \"Yds\": 408, \"TD\": 5, \"Rank\": 56}, {\"Player\": \"Jalen Richard\", \"Team\": \"OAK\", \"Age\": 26, \"Games\": 16, \"GS\": 0, \"RushingAtt\": 39, \"Tgt\": 43, \"Rec\": 36, \"RushingYds\": 145, \"ReceivingYds\": 323, \"RushingTD\": 0, \"ReceivingTD\": 0, \"FantasyPoints\": 82, \"Usage\": 82, \"Yds\": 468, \"TD\": 0, \"Rank\": 56}, {\"Player\": \"Rashaad Penny\", \"Team\": \"SEA\", \"Age\": 23, \"Games\": 10, \"GS\": 0, \"RushingAtt\": 65, \"Tgt\": 11, \"Rec\": 8, \"RushingYds\": 370, \"ReceivingYds\": 83, \"RushingTD\": 3, \"ReceivingTD\": 1, \"FantasyPoints\": 75, \"Usage\": 76, \"Yds\": 453, \"TD\": 4, \"Rank\": 58}, {\"Player\": \"Dare Ogunbowale\", \"Team\": \"TAM\", \"Age\": 25, \"Games\": 16, \"GS\": 0, \"RushingAtt\": 11, \"Tgt\": 46, \"Rec\": 35, \"RushingYds\": 17, \"ReceivingYds\": 286, \"RushingTD\": 2, \"ReceivingTD\": 0, \"FantasyPoints\": 75, \"Usage\": 57, \"Yds\": 303, \"TD\": 2, \"Rank\": 58}, {\"Player\": \"Alexander Mattison\", \"Team\": \"MIN\", \"Age\": 21, \"Games\": 13, \"GS\": 0, \"RushingAtt\": 100, \"Tgt\": 12, \"Rec\": 10, \"RushingYds\": 462, \"ReceivingYds\": 82, \"RushingTD\": 1, \"ReceivingTD\": 0, \"FantasyPoints\": 68, \"Usage\": 112, \"Yds\": 544, \"TD\": 1, \"Rank\": 60}, {\"Player\": \"Giovani Bernard\", \"Team\": \"CIN\", \"Age\": 28, \"Games\": 16, \"GS\": 2, \"RushingAtt\": 53, \"Tgt\": 43, \"Rec\": 30, \"RushingYds\": 170, \"ReceivingYds\": 234, \"RushingTD\": 0, \"ReceivingTD\": 0, \"FantasyPoints\": 68, \"Usage\": 96, \"Yds\": 404, \"TD\": 0, \"Rank\": 60}, {\"Player\": \"Brian Hill\", \"Team\": \"ATL\", \"Age\": 24, \"Games\": 12, \"GS\": 2, \"RushingAtt\": 78, \"Tgt\": 14, \"Rec\": 10, \"RushingYds\": 323, \"ReceivingYds\": 69, \"RushingTD\": 2, \"ReceivingTD\": 1, \"FantasyPoints\": 67, \"Usage\": 92, \"Yds\": 392, \"TD\": 3, \"Rank\": 62}, {\"Player\": \"Darrel Williams\", \"Team\": \"KAN\", \"Age\": 24, \"Games\": 12, \"GS\": 0, \"RushingAtt\": 41, \"Tgt\": 19, \"Rec\": 15, \"RushingYds\": 141, \"ReceivingYds\": 167, \"RushingTD\": 3, \"ReceivingTD\": 1, \"FantasyPoints\": 67, \"Usage\": 60, \"Yds\": 308, \"TD\": 4, \"Rank\": 62}, {\"Player\": \"Dion Lewis\", \"Team\": \"TEN\", \"Age\": 29, \"Games\": 16, \"GS\": 1, \"RushingAtt\": 54, \"Tgt\": 32, \"Rec\": 25, \"RushingYds\": 209, \"ReceivingYds\": 164, \"RushingTD\": 0, \"ReceivingTD\": 1, \"FantasyPoints\": 66, \"Usage\": 86, \"Yds\": 373, \"TD\": 1, \"Rank\": 64}, {\"Player\": \"Patrick Laird\", \"Team\": \"MIA\", \"Age\": 24, \"Games\": 15, \"GS\": 4, \"RushingAtt\": 62, \"Tgt\": 30, \"Rec\": 23, \"RushingYds\": 168, \"ReceivingYds\": 204, \"RushingTD\": 1, \"ReceivingTD\": 0, \"FantasyPoints\": 66, \"Usage\": 92, \"Yds\": 372, \"TD\": 1, \"Rank\": 64}, {\"Player\": \"Ty Johnson\", \"Team\": \"DET\", \"Age\": 22, \"Games\": 16, \"GS\": 1, \"RushingAtt\": 63, \"Tgt\": 31, \"Rec\": 24, \"RushingYds\": 273, \"ReceivingYds\": 109, \"RushingTD\": 0, \"ReceivingTD\": 0, \"FantasyPoints\": 60, \"Usage\": 94, \"Yds\": 382, \"TD\": 0, \"Rank\": 66}, {\"Player\": \"Malcolm Brown\", \"Team\": \"LAR\", \"Age\": 26, \"Games\": 14, \"GS\": 1, \"RushingAtt\": 69, \"Tgt\": 6, \"Rec\": 2, \"RushingYds\": 255, \"ReceivingYds\": 16, \"RushingTD\": 5, \"ReceivingTD\": 0, \"FantasyPoints\": 59, \"Usage\": 75, \"Yds\": 271, \"TD\": 5, \"Rank\": 67}, {\"Player\": \"Benny Snell\", \"Team\": \"PIT\", \"Age\": 21, \"Games\": 13, \"GS\": 2, \"RushingAtt\": 108, \"Tgt\": 4, \"Rec\": 3, \"RushingYds\": 426, \"ReceivingYds\": 23, \"RushingTD\": 2, \"ReceivingTD\": 0, \"FantasyPoints\": 57, \"Usage\": 112, \"Yds\": 449, \"TD\": 2, \"Rank\": 68}, {\"Player\": \"Derrius Guice\", \"Team\": \"WAS\", \"Age\": 22, \"Games\": 5, \"GS\": 1, \"RushingAtt\": 42, \"Tgt\": 9, \"Rec\": 7, \"RushingYds\": 245, \"ReceivingYds\": 79, \"RushingTD\": 2, \"ReceivingTD\": 1, \"FantasyPoints\": 57, \"Usage\": 51, \"Yds\": 324, \"TD\": 3, \"Rank\": 68}, {\"Player\": \"Jordan Wilkins\", \"Team\": \"IND\", \"Age\": 25, \"Games\": 14, \"GS\": 1, \"RushingAtt\": 51, \"Tgt\": 11, \"Rec\": 7, \"RushingYds\": 307, \"ReceivingYds\": 43, \"RushingTD\": 2, \"ReceivingTD\": 0, \"FantasyPoints\": 54, \"Usage\": 62, \"Yds\": 350, \"TD\": 2, \"Rank\": 70}, {\"Player\": \"Kalen Ballage\", \"Team\": \"MIA\", \"Age\": 24, \"Games\": 12, \"GS\": 6, \"RushingAtt\": 74, \"Tgt\": 24, \"Rec\": 14, \"RushingYds\": 135, \"ReceivingYds\": 63, \"RushingTD\": 3, \"ReceivingTD\": 0, \"FantasyPoints\": 51, \"Usage\": 98, \"Yds\": 198, \"TD\": 3, \"Rank\": 71}, {\"Player\": \"Ryquell Armstead\", \"Team\": \"JAX\", \"Age\": 23, \"Games\": 16, \"GS\": 1, \"RushingAtt\": 35, \"Tgt\": 24, \"Rec\": 14, \"RushingYds\": 108, \"ReceivingYds\": 144, \"RushingTD\": 0, \"ReceivingTD\": 2, \"FantasyPoints\": 51, \"Usage\": 59, \"Yds\": 252, \"TD\": 2, \"Rank\": 71}, {\"Player\": \"Brandon Bolden\", \"Team\": \"NWE\", \"Age\": 29, \"Games\": 15, \"GS\": 2, \"RushingAtt\": 15, \"Tgt\": 11, \"Rec\": 9, \"RushingYds\": 68, \"ReceivingYds\": 111, \"RushingTD\": 3, \"ReceivingTD\": 1, \"FantasyPoints\": 50, \"Usage\": 26, \"Yds\": 179, \"TD\": 4, \"Rank\": 74}, {\"Player\": \"Mike Boone\", \"Team\": \"MIN\", \"Age\": 24, \"Games\": 16, \"GS\": 2, \"RushingAtt\": 49, \"Tgt\": 4, \"Rec\": 3, \"RushingYds\": 273, \"ReceivingYds\": 17, \"RushingTD\": 3, \"ReceivingTD\": 0, \"FantasyPoints\": 50, \"Usage\": 53, \"Yds\": 290, \"TD\": 3, \"Rank\": 74}, {\"Player\": \"Kyle Juszczyk\", \"Team\": \"SFO\", \"Age\": 28, \"Games\": 12, \"GS\": 12, \"RushingAtt\": 3, \"Tgt\": 24, \"Rec\": 20, \"RushingYds\": 7, \"ReceivingYds\": 239, \"RushingTD\": 0, \"ReceivingTD\": 1, \"FantasyPoints\": 50, \"Usage\": 27, \"Yds\": 246, \"TD\": 1, \"Rank\": 74}, {\"Player\": \"Justice Hill\", \"Team\": \"BAL\", \"Age\": 22, \"Games\": 16, \"GS\": 0, \"RushingAtt\": 58, \"Tgt\": 15, \"Rec\": 8, \"RushingYds\": 225, \"ReceivingYds\": 70, \"RushingTD\": 2, \"ReceivingTD\": 0, \"FantasyPoints\": 49, \"Usage\": 73, \"Yds\": 295, \"TD\": 2, \"Rank\": 76}, {\"Player\": \"Wayne Gallman\", \"Team\": \"NYG\", \"Age\": 25, \"Games\": 10, \"GS\": 2, \"RushingAtt\": 29, \"Tgt\": 15, \"Rec\": 11, \"RushingYds\": 110, \"ReceivingYds\": 102, \"RushingTD\": 2, \"ReceivingTD\": 1, \"FantasyPoints\": 48, \"Usage\": 44, \"Yds\": 212, \"TD\": 3, \"Rank\": 77}, {\"Player\": \"Jeff Wilson\", \"Team\": \"SFO\", \"Age\": 24, \"Games\": 10, \"GS\": 0, \"RushingAtt\": 27, \"Tgt\": 5, \"Rec\": 3, \"RushingYds\": 105, \"ReceivingYds\": 34, \"RushingTD\": 4, \"ReceivingTD\": 1, \"FantasyPoints\": 46, \"Usage\": 32, \"Yds\": 139, \"TD\": 5, \"Rank\": 78}, {\"Player\": \"Bo Scarbrough\", \"Team\": \"DET\", \"Age\": 23, \"Games\": 6, \"GS\": 5, \"RushingAtt\": 89, \"Tgt\": 4, \"Rec\": 1, \"RushingYds\": 377, \"ReceivingYds\": 5, \"RushingTD\": 1, \"ReceivingTD\": 0, \"FantasyPoints\": 43, \"Usage\": 93, \"Yds\": 382, \"TD\": 1, \"Rank\": 79}, {\"Player\": \"Mark Walton\", \"Team\": \"MIA\", \"Age\": 22, \"Games\": 7, \"GS\": 4, \"RushingAtt\": 53, \"Tgt\": 21, \"Rec\": 15, \"RushingYds\": 201, \"ReceivingYds\": 89, \"RushingTD\": 0, \"ReceivingTD\": 0, \"FantasyPoints\": 42, \"Usage\": 74, \"Yds\": 290, \"TD\": 0, \"Rank\": 80}, {\"Player\": \"Jonathan Williams\", \"Team\": \"IND\", \"Age\": 25, \"Games\": 9, \"GS\": 1, \"RushingAtt\": 49, \"Tgt\": 5, \"Rec\": 5, \"RushingYds\": 235, \"ReceivingYds\": 59, \"RushingTD\": 1, \"ReceivingTD\": 0, \"FantasyPoints\": 40, \"Usage\": 54, \"Yds\": 294, \"TD\": 1, \"Rank\": 81}, {\"Player\": \"Ameer Abdullah\", \"Team\": \"MIN\", \"Age\": 26, \"Games\": 16, \"GS\": 0, \"RushingAtt\": 23, \"Tgt\": 21, \"Rec\": 15, \"RushingYds\": 115, \"ReceivingYds\": 88, \"RushingTD\": 0, \"ReceivingTD\": 1, \"FantasyPoints\": 39, \"Usage\": 44, \"Yds\": 203, \"TD\": 1, \"Rank\": 82}, {\"Player\": \"Dontrell Hilliard\", \"Team\": \"CLE\", \"Age\": 24, \"Games\": 14, \"GS\": 0, \"RushingAtt\": 13, \"Tgt\": 15, \"Rec\": 12, \"RushingYds\": 49, \"ReceivingYds\": 92, \"RushingTD\": 2, \"ReceivingTD\": 0, \"FantasyPoints\": 38, \"Usage\": 28, \"Yds\": 141, \"TD\": 2, \"Rank\": 83}, {\"Player\": \"C.J. Ham\", \"Team\": \"MIN\", \"Age\": 26, \"Games\": 16, \"GS\": 7, \"RushingAtt\": 7, \"Tgt\": 26, \"Rec\": 17, \"RushingYds\": 17, \"ReceivingYds\": 149, \"RushingTD\": 0, \"ReceivingTD\": 1, \"FantasyPoints\": 37, \"Usage\": 33, \"Yds\": 166, \"TD\": 1, \"Rank\": 84}, {\"Player\": \"Ito Smith\", \"Team\": \"ATL\", \"Age\": 24, \"Games\": 7, \"GS\": 0, \"RushingAtt\": 22, \"Tgt\": 14, \"Rec\": 11, \"RushingYds\": 106, \"ReceivingYds\": 87, \"RushingTD\": 1, \"ReceivingTD\": 0, \"FantasyPoints\": 36, \"Usage\": 36, \"Yds\": 193, \"TD\": 1, \"Rank\": 85}, {\"Player\": \"Bilal Powell\", \"Team\": \"NYJ\", \"Age\": 31, \"Games\": 13, \"GS\": 1, \"RushingAtt\": 59, \"Tgt\": 12, \"Rec\": 7, \"RushingYds\": 229, \"ReceivingYds\": 33, \"RushingTD\": 0, \"ReceivingTD\": 0, \"FantasyPoints\": 33, \"Usage\": 71, \"Yds\": 262, \"TD\": 0, \"Rank\": 86}, {\"Player\": \"Darwin Thompson\", \"Team\": \"KAN\", \"Age\": 23, \"Games\": 12, \"GS\": 0, \"RushingAtt\": 37, \"Tgt\": 10, \"Rec\": 9, \"RushingYds\": 128, \"ReceivingYds\": 43, \"RushingTD\": 1, \"ReceivingTD\": 0, \"FantasyPoints\": 32, \"Usage\": 47, \"Yds\": 171, \"TD\": 1, \"Rank\": 87}, {\"Player\": \"Ty Montgomery\", \"Team\": \"NYJ\", \"Age\": 26, \"Games\": 16, \"GS\": 2, \"RushingAtt\": 32, \"Tgt\": 17, \"Rec\": 13, \"RushingYds\": 103, \"ReceivingYds\": 90, \"RushingTD\": 0, \"ReceivingTD\": 0, \"FantasyPoints\": 32, \"Usage\": 49, \"Yds\": 193, \"TD\": 0, \"Rank\": 87}, {\"Player\": \"Myles Gaskin\", \"Team\": \"MIA\", \"Age\": 22, \"Games\": 7, \"GS\": 0, \"RushingAtt\": 36, \"Tgt\": 12, \"Rec\": 7, \"RushingYds\": 133, \"ReceivingYds\": 51, \"RushingTD\": 1, \"ReceivingTD\": 0, \"FantasyPoints\": 31, \"Usage\": 48, \"Yds\": 184, \"TD\": 1, \"Rank\": 89}, {\"Player\": \"Justin Jackson\", \"Team\": \"LAC\", \"Age\": 24, \"Games\": 7, \"GS\": 0, \"RushingAtt\": 29, \"Tgt\": 11, \"Rec\": 9, \"RushingYds\": 200, \"ReceivingYds\": 22, \"RushingTD\": 0, \"ReceivingTD\": 0, \"FantasyPoints\": 31, \"Usage\": 40, \"Yds\": 222, \"TD\": 0, \"Rank\": 89}, {\"Player\": \"Qadree Ollison\", \"Team\": \"ATL\", \"Age\": 23, \"Games\": 8, \"GS\": 0, \"RushingAtt\": 22, \"Tgt\": 2, \"Rec\": 1, \"RushingYds\": 50, \"ReceivingYds\": 7, \"RushingTD\": 4, \"ReceivingTD\": 0, \"FantasyPoints\": 30, \"Usage\": 24, \"Yds\": 57, \"TD\": 4, \"Rank\": 91}, {\"Player\": \"T.J. Yeldon\", \"Team\": \"BUF\", \"Age\": 26, \"Games\": 6, \"GS\": 0, \"RushingAtt\": 17, \"Tgt\": 15, \"Rec\": 13, \"RushingYds\": 63, \"ReceivingYds\": 124, \"RushingTD\": 0, \"ReceivingTD\": 0, \"FantasyPoints\": 29, \"Usage\": 32, \"Yds\": 187, \"TD\": 0, \"Rank\": 92}, {\"Player\": \"Reggie Bonnafon\", \"Team\": \"CAR\", \"Age\": 23, \"Games\": 16, \"GS\": 0, \"RushingAtt\": 16, \"Tgt\": 9, \"Rec\": 6, \"RushingYds\": 116, \"ReceivingYds\": 57, \"RushingTD\": 1, \"ReceivingTD\": 0, \"FantasyPoints\": 29, \"Usage\": 25, \"Yds\": 173, \"TD\": 1, \"Rank\": 92}, {\"Player\": \"C.J. Prosise\", \"Team\": \"SEA\", \"Age\": 25, \"Games\": 9, \"GS\": 0, \"RushingAtt\": 23, \"Tgt\": 12, \"Rec\": 10, \"RushingYds\": 72, \"ReceivingYds\": 76, \"RushingTD\": 1, \"ReceivingTD\": 0, \"FantasyPoints\": 28, \"Usage\": 35, \"Yds\": 148, \"TD\": 1, \"Rank\": 94}, {\"Player\": \"Travis Homer\", \"Team\": \"SEA\", \"Age\": 21, \"Games\": 16, \"GS\": 1, \"RushingAtt\": 18, \"Tgt\": 13, \"Rec\": 11, \"RushingYds\": 114, \"ReceivingYds\": 56, \"RushingTD\": 0, \"ReceivingTD\": 0, \"FantasyPoints\": 28, \"Usage\": 31, \"Yds\": 170, \"TD\": 0, \"Rank\": 94}, {\"Player\": \"Andrew Beck\", \"Team\": \"DEN\", \"Age\": 23, \"Games\": 16, \"GS\": 6, \"RushingAtt\": 1, \"Tgt\": 12, \"Rec\": 9, \"RushingYds\": 3, \"ReceivingYds\": 90, \"RushingTD\": 0, \"ReceivingTD\": 1, \"FantasyPoints\": 24, \"Usage\": 13, \"Yds\": 93, \"TD\": 1, \"Rank\": 96}, {\"Player\": \"Wendell Smallwood\", \"Team\": \"WAS\", \"Age\": 25, \"Games\": 15, \"GS\": 0, \"RushingAtt\": 22, \"Tgt\": 13, \"Rec\": 9, \"RushingYds\": 81, \"ReceivingYds\": 64, \"RushingTD\": 0, \"ReceivingTD\": 0, \"FantasyPoints\": 23, \"Usage\": 35, \"Yds\": 145, \"TD\": 0, \"Rank\": 97}, {\"Player\": \"Darrell Henderson\", \"Team\": \"LAR\", \"Age\": 22, \"Games\": 13, \"GS\": 0, \"RushingAtt\": 39, \"Tgt\": 6, \"Rec\": 4, \"RushingYds\": 147, \"ReceivingYds\": 37, \"RushingTD\": 0, \"ReceivingTD\": 0, \"FantasyPoints\": 22, \"Usage\": 45, \"Yds\": 184, \"TD\": 0, \"Rank\": 98}, {\"Player\": \"Trey Edmunds\", \"Team\": \"PIT\", \"Age\": 25, \"Games\": 11, \"GS\": 0, \"RushingAtt\": 22, \"Tgt\": 7, \"Rec\": 6, \"RushingYds\": 92, \"ReceivingYds\": 48, \"RushingTD\": 0, \"ReceivingTD\": 0, \"FantasyPoints\": 20, \"Usage\": 29, \"Yds\": 140, \"TD\": 0, \"Rank\": 99}, {\"Player\": \"Alec Ingold\", \"Team\": \"OAK\", \"Age\": 23, \"Games\": 16, \"GS\": 4, \"RushingAtt\": 10, \"Tgt\": 6, \"Rec\": 6, \"RushingYds\": 17, \"ReceivingYds\": 44, \"RushingTD\": 0, \"ReceivingTD\": 1, \"FantasyPoints\": 18, \"Usage\": 16, \"Yds\": 61, \"TD\": 1, \"Rank\": 100}, {\"Player\": \"Danny Vitale\", \"Team\": \"GNB\", \"Age\": 26, \"Games\": 15, \"GS\": 4, \"RushingAtt\": 1, \"Tgt\": 12, \"Rec\": 7, \"RushingYds\": 3, \"ReceivingYds\": 97, \"RushingTD\": 0, \"ReceivingTD\": 0, \"FantasyPoints\": 17, \"Usage\": 13, \"Yds\": 100, \"TD\": 0, \"Rank\": 101}, {\"Player\": \"Wes Hills\", \"Team\": \"DET\", \"Age\": 24, \"Games\": 1, \"GS\": 1, \"RushingAtt\": 10, \"Tgt\": 2, \"Rec\": 2, \"RushingYds\": 21, \"ReceivingYds\": 1, \"RushingTD\": 2, \"ReceivingTD\": 0, \"FantasyPoints\": 16, \"Usage\": 12, \"Yds\": 22, \"TD\": 2, \"Rank\": 102}, {\"Player\": \"Darren Sproles\", \"Team\": \"PHI\", \"Age\": 36, \"Games\": 6, \"GS\": 1, \"RushingAtt\": 17, \"Tgt\": 10, \"Rec\": 6, \"RushingYds\": 66, \"ReceivingYds\": 24, \"RushingTD\": 0, \"ReceivingTD\": 0, \"FantasyPoints\": 15, \"Usage\": 27, \"Yds\": 90, \"TD\": 0, \"Rank\": 104}, {\"Player\": \"Andy Janovich\", \"Team\": \"DEN\", \"Age\": 26, \"Games\": 7, \"GS\": 3, \"RushingAtt\": 1, \"Tgt\": 5, \"Rec\": 5, \"RushingYds\": 1, \"ReceivingYds\": 42, \"RushingTD\": 1, \"ReceivingTD\": 0, \"FantasyPoints\": 15, \"Usage\": 6, \"Yds\": 43, \"TD\": 1, \"Rank\": 104}, {\"Player\": \"D'Ernest Johnson\", \"Team\": \"CLE\", \"Age\": 23, \"Games\": 16, \"GS\": 0, \"RushingAtt\": 4, \"Tgt\": 7, \"Rec\": 6, \"RushingYds\": 21, \"ReceivingYds\": 71, \"RushingTD\": 0, \"ReceivingTD\": 0, \"FantasyPoints\": 15, \"Usage\": 11, \"Yds\": 92, \"TD\": 0, \"Rank\": 104}, {\"Player\": \"Kerrith Whyte\", \"Team\": \"PIT\", \"Age\": 23, \"Games\": 6, \"GS\": 0, \"RushingAtt\": 24, \"Tgt\": 1, \"Rec\": 1, \"RushingYds\": 122, \"ReceivingYds\": 9, \"RushingTD\": 0, \"ReceivingTD\": 0, \"FantasyPoints\": 14, \"Usage\": 25, \"Yds\": 131, \"TD\": 0, \"Rank\": 106}, {\"Player\": \"Derek Watt\", \"Team\": \"LAC\", \"Age\": 27, \"Games\": 16, \"GS\": 2, \"RushingAtt\": 7, \"Tgt\": 5, \"Rec\": 3, \"RushingYds\": 10, \"ReceivingYds\": 32, \"RushingTD\": 1, \"ReceivingTD\": 0, \"FantasyPoints\": 13, \"Usage\": 12, \"Yds\": 42, \"TD\": 1, \"Rank\": 107}, {\"Player\": \"Devontae Booker\", \"Team\": \"DEN\", \"Age\": 27, \"Games\": 16, \"GS\": 0, \"RushingAtt\": 2, \"Tgt\": 9, \"Rec\": 6, \"RushingYds\": 9, \"ReceivingYds\": 57, \"RushingTD\": 0, \"ReceivingTD\": 0, \"FantasyPoints\": 12, \"Usage\": 11, \"Yds\": 66, \"TD\": 0, \"Rank\": 108}, {\"Player\": \"Spencer Ware\", \"Team\": \"KAN\", \"Age\": 28, \"Games\": 3, \"GS\": 1, \"RushingAtt\": 17, \"Tgt\": 7, \"Rec\": 5, \"RushingYds\": 51, \"ReceivingYds\": 22, \"RushingTD\": 0, \"ReceivingTD\": 0, \"FantasyPoints\": 12, \"Usage\": 24, \"Yds\": 73, \"TD\": 0, \"Rank\": 108}, {\"Player\": \"Mike Davis\", \"Team\": \"2TM\", \"Age\": 26, \"Games\": 12, \"GS\": 1, \"RushingAtt\": 13, \"Tgt\": 8, \"Rec\": 7, \"RushingYds\": 27, \"ReceivingYds\": 22, \"RushingTD\": 0, \"ReceivingTD\": 0, \"FantasyPoints\": 11, \"Usage\": 21, \"Yds\": 49, \"TD\": 0, \"Rank\": 111}, {\"Player\": \"Javorius Allen\", \"Team\": \"NYG\", \"Age\": 28, \"Games\": 10, \"GS\": 0, \"RushingAtt\": 10, \"Tgt\": 2, \"Rec\": 1, \"RushingYds\": 36, \"ReceivingYds\": 9, \"RushingTD\": 1, \"ReceivingTD\": 0, \"FantasyPoints\": 11, \"Usage\": 12, \"Yds\": 45, \"TD\": 1, \"Rank\": 111}, {\"Player\": \"Zach Line\", \"Team\": \"NOR\", \"Age\": 29, \"Games\": 12, \"GS\": 2, \"RushingAtt\": 7, \"Tgt\": 10, \"Rec\": 6, \"RushingYds\": 20, \"ReceivingYds\": 36, \"RushingTD\": 0, \"ReceivingTD\": 0, \"FantasyPoints\": 11, \"Usage\": 17, \"Yds\": 56, \"TD\": 0, \"Rank\": 111}, {\"Player\": \"Nick Bellore\", \"Team\": \"SEA\", \"Age\": 30, \"Games\": 14, \"GS\": 1, \"RushingAtt\": 0, \"Tgt\": 2, \"Rec\": 2, \"RushingYds\": 0, \"ReceivingYds\": 23, \"RushingTD\": 0, \"ReceivingTD\": 1, \"FantasyPoints\": 10, \"Usage\": 2, \"Yds\": 23, \"TD\": 1, \"Rank\": 113}, {\"Player\": \"Tra Carson\", \"Team\": \"2TM\", \"Age\": 27, \"Games\": 3, \"GS\": 1, \"RushingAtt\": 18, \"Tgt\": 4, \"Rec\": 4, \"RushingYds\": 48, \"ReceivingYds\": 18, \"RushingTD\": 0, \"ReceivingTD\": 0, \"FantasyPoints\": 10, \"Usage\": 22, \"Yds\": 66, \"TD\": 0, \"Rank\": 113}, {\"Player\": \"Khari Blasingame\", \"Team\": \"TEN\", \"Age\": 23, \"Games\": 6, \"GS\": 3, \"RushingAtt\": 0, \"Tgt\": 5, \"Rec\": 4, \"RushingYds\": 0, \"ReceivingYds\": 54, \"RushingTD\": 0, \"ReceivingTD\": 0, \"FantasyPoints\": 9, \"Usage\": 5, \"Yds\": 54, \"TD\": 0, \"Rank\": 118}, {\"Player\": \"Patrick DiMarco\", \"Team\": \"BUF\", \"Age\": 30, \"Games\": 16, \"GS\": 4, \"RushingAtt\": 3, \"Tgt\": 7, \"Rec\": 5, \"RushingYds\": 7, \"ReceivingYds\": 41, \"RushingTD\": 0, \"ReceivingTD\": 0, \"FantasyPoints\": 9, \"Usage\": 10, \"Yds\": 48, \"TD\": 0, \"Rank\": 118}, {\"Player\": \"Cethan Carter\", \"Team\": \"CIN\", \"Age\": 24, \"Games\": 15, \"GS\": 0, \"RushingAtt\": 0, \"Tgt\": 3, \"Rec\": 2, \"RushingYds\": 0, \"ReceivingYds\": 13, \"RushingTD\": 0, \"ReceivingTD\": 1, \"FantasyPoints\": 9, \"Usage\": 3, \"Yds\": 13, \"TD\": 1, \"Rank\": 118}, {\"Player\": \"Troymaine Pope\", \"Team\": \"LAC\", \"Age\": 26, \"Games\": 14, \"GS\": 0, \"RushingAtt\": 10, \"Tgt\": 3, \"Rec\": 2, \"RushingYds\": 20, \"ReceivingYds\": 14, \"RushingTD\": 0, \"ReceivingTD\": 1, \"FantasyPoints\": 9, \"Usage\": 13, \"Yds\": 34, \"TD\": 1, \"Rank\": 118}, {\"Player\": \"Alex Armah\", \"Team\": \"CAR\", \"Age\": 25, \"Games\": 16, \"GS\": 1, \"RushingAtt\": 6, \"Tgt\": 2, \"Rec\": 2, \"RushingYds\": 11, \"ReceivingYds\": 6, \"RushingTD\": 1, \"ReceivingTD\": 0, \"FantasyPoints\": 9, \"Usage\": 8, \"Yds\": 17, \"TD\": 1, \"Rank\": 118}, {\"Player\": \"Marshawn Lynch\", \"Team\": \"SEA\", \"Age\": 33, \"Games\": 1, \"GS\": 0, \"RushingAtt\": 12, \"Tgt\": 0, \"Rec\": 0, \"RushingYds\": 34, \"ReceivingYds\": 0, \"RushingTD\": 1, \"ReceivingTD\": 0, \"FantasyPoints\": 9, \"Usage\": 12, \"Yds\": 34, \"TD\": 1, \"Rank\": 118}, {\"Player\": \"Kenjon Barner\", \"Team\": \"ATL\", \"Age\": 29, \"Games\": 14, \"GS\": 0, \"RushingAtt\": 4, \"Tgt\": 8, \"Rec\": 6, \"RushingYds\": 28, \"ReceivingYds\": 22, \"RushingTD\": 0, \"ReceivingTD\": 0, \"FantasyPoints\": 9, \"Usage\": 12, \"Yds\": 50, \"TD\": 0, \"Rank\": 118}, {\"Player\": \"Jon Hilliman\", \"Team\": \"NYG\", \"Age\": 24, \"Games\": 3, \"GS\": 1, \"RushingAtt\": 30, \"Tgt\": 4, \"Rec\": 3, \"RushingYds\": 91, \"ReceivingYds\": 1, \"RushingTD\": 0, \"ReceivingTD\": 0, \"FantasyPoints\": 8, \"Usage\": 34, \"Yds\": 92, \"TD\": 0, \"Rank\": 122}, {\"Player\": \"Devine Ozigbo\", \"Team\": \"JAX\", \"Age\": 23, \"Games\": 10, \"GS\": 0, \"RushingAtt\": 9, \"Tgt\": 5, \"Rec\": 3, \"RushingYds\": 27, \"ReceivingYds\": 23, \"RushingTD\": 0, \"ReceivingTD\": 0, \"FantasyPoints\": 8, \"Usage\": 14, \"Yds\": 50, \"TD\": 0, \"Rank\": 122}, {\"Player\": \"Dwayne Washington\", \"Team\": \"NOR\", \"Age\": 25, \"Games\": 16, \"GS\": 0, \"RushingAtt\": 8, \"Tgt\": 1, \"Rec\": 1, \"RushingYds\": 60, \"ReceivingYds\": 6, \"RushingTD\": 0, \"ReceivingTD\": 0, \"FantasyPoints\": 7, \"Usage\": 9, \"Yds\": 66, \"TD\": 0, \"Rank\": 124}, {\"Player\": \"Elijhaa Penny\", \"Team\": \"NYG\", \"Age\": 26, \"Games\": 16, \"GS\": 1, \"RushingAtt\": 15, \"Tgt\": 4, \"Rec\": 2, \"RushingYds\": 39, \"ReceivingYds\": 9, \"RushingTD\": 0, \"ReceivingTD\": 0, \"FantasyPoints\": 6, \"Usage\": 19, \"Yds\": 48, \"TD\": 0, \"Rank\": 125}, {\"Player\": \"Anthony Sherman\", \"Team\": \"KAN\", \"Age\": 31, \"Games\": 16, \"GS\": 0, \"RushingAtt\": 4, \"Tgt\": 3, \"Rec\": 2, \"RushingYds\": 9, \"ReceivingYds\": 22, \"RushingTD\": 0, \"ReceivingTD\": 0, \"FantasyPoints\": 5, \"Usage\": 7, \"Yds\": 31, \"TD\": 0, \"Rank\": 127}, {\"Player\": \"Nick Bawden\", \"Team\": \"DET\", \"Age\": 23, \"Games\": 10, \"GS\": 2, \"RushingAtt\": 0, \"Tgt\": 6, \"Rec\": 4, \"RushingYds\": 0, \"ReceivingYds\": 17, \"RushingTD\": 0, \"ReceivingTD\": 0, \"FantasyPoints\": 5, \"Usage\": 6, \"Yds\": 17, \"TD\": 0, \"Rank\": 127}, {\"Player\": \"Taiwan Jones\", \"Team\": \"HOU\", \"Age\": 31, \"Games\": 11, \"GS\": 0, \"RushingAtt\": 9, \"Tgt\": 1, \"Rec\": 1, \"RushingYds\": 40, \"ReceivingYds\": 9, \"RushingTD\": 0, \"ReceivingTD\": 0, \"FantasyPoints\": 5, \"Usage\": 10, \"Yds\": 49, \"TD\": 0, \"Rank\": 127}, {\"Player\": \"Tyler Ervin\", \"Team\": \"2TM\", \"Age\": 26, \"Games\": 10, \"GS\": 0, \"RushingAtt\": 1, \"Tgt\": 4, \"Rec\": 2, \"RushingYds\": 10, \"ReceivingYds\": 11, \"RushingTD\": 0, \"ReceivingTD\": 0, \"FantasyPoints\": 4, \"Usage\": 5, \"Yds\": 21, \"TD\": 0, \"Rank\": 130}, {\"Player\": \"C.J. Anderson\", \"Team\": \"DET\", \"Age\": 28, \"Games\": 2, \"GS\": 0, \"RushingAtt\": 16, \"Tgt\": 0, \"Rec\": 0, \"RushingYds\": 43, \"ReceivingYds\": 0, \"RushingTD\": 0, \"ReceivingTD\": 0, \"FantasyPoints\": 4, \"Usage\": 16, \"Yds\": 43, \"TD\": 0, \"Rank\": 130}, {\"Player\": \"Paul Perkins\", \"Team\": \"DET\", \"Age\": 25, \"Games\": 4, \"GS\": 0, \"RushingAtt\": 12, \"Tgt\": 1, \"Rec\": 1, \"RushingYds\": 29, \"ReceivingYds\": 9, \"RushingTD\": 0, \"ReceivingTD\": 0, \"FantasyPoints\": 4, \"Usage\": 13, \"Yds\": 38, \"TD\": 0, \"Rank\": 130}, {\"Player\": \"T.J. Logan\", \"Team\": \"TAM\", \"Age\": 25, \"Games\": 12, \"GS\": 0, \"RushingAtt\": 3, \"Tgt\": 3, \"Rec\": 2, \"RushingYds\": 10, \"ReceivingYds\": 13, \"RushingTD\": 0, \"ReceivingTD\": 0, \"FantasyPoints\": 4, \"Usage\": 6, \"Yds\": 23, \"TD\": 0, \"Rank\": 130}, {\"Player\": \"Keith Smith\", \"Team\": \"ATL\", \"Age\": 27, \"Games\": 16, \"GS\": 5, \"RushingAtt\": 5, \"Tgt\": 3, \"Rec\": 1, \"RushingYds\": 8, \"ReceivingYds\": 13, \"RushingTD\": 0, \"ReceivingTD\": 0, \"FantasyPoints\": 3, \"Usage\": 8, \"Yds\": 21, \"TD\": 0, \"Rank\": 134}, {\"Player\": \"Zach Zenner\", \"Team\": \"3TM\", \"Age\": 28, \"Games\": 5, \"GS\": 0, \"RushingAtt\": 3, \"Tgt\": 3, \"Rec\": 2, \"RushingYds\": -2, \"ReceivingYds\": 19, \"RushingTD\": 0, \"ReceivingTD\": 0, \"FantasyPoints\": 3, \"Usage\": 6, \"Yds\": 17, \"TD\": 0, \"Rank\": 134}, {\"Player\": \"Jay Ajayi\", \"Team\": \"PHI\", \"Age\": 26, \"Games\": 3, \"GS\": 0, \"RushingAtt\": 10, \"Tgt\": 1, \"Rec\": 0, \"RushingYds\": 30, \"ReceivingYds\": 0, \"RushingTD\": 0, \"ReceivingTD\": 0, \"FantasyPoints\": 3, \"Usage\": 11, \"Yds\": 30, \"TD\": 0, \"Rank\": 134}, {\"Player\": \"Roosevelt Nix\", \"Team\": \"PIT\", \"Age\": 27, \"Games\": 3, \"GS\": 0, \"RushingAtt\": 0, \"Tgt\": 3, \"Rec\": 2, \"RushingYds\": 0, \"ReceivingYds\": 4, \"RushingTD\": 0, \"ReceivingTD\": 0, \"FantasyPoints\": 2, \"Usage\": 3, \"Yds\": 4, \"TD\": 0, \"Rank\": 136}, {\"Player\": \"Dalyn Dawkins\", \"Team\": \"TEN\", \"Age\": 25, \"Games\": 2, \"GS\": 0, \"RushingAtt\": 11, \"Tgt\": 1, \"Rec\": 0, \"RushingYds\": 26, \"ReceivingYds\": 0, \"RushingTD\": 0, \"ReceivingTD\": 0, \"FantasyPoints\": 2, \"Usage\": 12, \"Yds\": 26, \"TD\": 0, \"Rank\": 136}, {\"Player\": \"Jakob Johnson\", \"Team\": \"NWE\", \"Age\": 25, \"Games\": 4, \"GS\": 3, \"RushingAtt\": 0, \"Tgt\": 2, \"Rec\": 1, \"RushingYds\": 0, \"ReceivingYds\": 5, \"RushingTD\": 0, \"ReceivingTD\": 0, \"FantasyPoints\": 1, \"Usage\": 2, \"Yds\": 5, \"TD\": 0, \"Rank\": 141}, {\"Player\": \"Dexter Williams\", \"Team\": \"GNB\", \"Age\": 22, \"Games\": 4, \"GS\": 0, \"RushingAtt\": 5, \"Tgt\": 0, \"Rec\": 0, \"RushingYds\": 11, \"ReceivingYds\": 0, \"RushingTD\": 0, \"ReceivingTD\": 0, \"FantasyPoints\": 1, \"Usage\": 5, \"Yds\": 11, \"TD\": 0, \"Rank\": 141}, {\"Player\": \"Ricky Ortiz\", \"Team\": \"NOR\", \"Age\": 25, \"Games\": 1, \"GS\": 0, \"RushingAtt\": 0, \"Tgt\": 1, \"Rec\": 1, \"RushingYds\": 0, \"ReceivingYds\": 8, \"RushingTD\": 0, \"ReceivingTD\": 0, \"FantasyPoints\": 1, \"Usage\": 1, \"Yds\": 8, \"TD\": 0, \"Rank\": 141}, {\"Player\": \"Buddy Howell\", \"Team\": \"HOU\", \"Age\": 23, \"Games\": 16, \"GS\": 0, \"RushingAtt\": 5, \"Tgt\": 0, \"Rec\": 0, \"RushingYds\": 10, \"ReceivingYds\": 0, \"RushingTD\": 0, \"ReceivingTD\": 0, \"FantasyPoints\": 1, \"Usage\": 5, \"Yds\": 10, \"TD\": 0, \"Rank\": 141}, {\"Player\": \"Samaje Perine\", \"Team\": \"2TM\", \"Age\": 24, \"Games\": 7, \"GS\": 0, \"RushingAtt\": 5, \"Tgt\": 0, \"Rec\": 0, \"RushingYds\": 16, \"ReceivingYds\": 0, \"RushingTD\": 0, \"ReceivingTD\": 0, \"FantasyPoints\": 1, \"Usage\": 5, \"Yds\": 16, \"TD\": 0, \"Rank\": 141}, {\"Player\": \"Josh Adams\", \"Team\": \"NYJ\", \"Age\": 23, \"Games\": 3, \"GS\": 0, \"RushingAtt\": 8, \"Tgt\": 0, \"Rec\": 0, \"RushingYds\": 12, \"ReceivingYds\": 0, \"RushingTD\": 0, \"ReceivingTD\": 0, \"FantasyPoints\": 1, \"Usage\": 8, \"Yds\": 12, \"TD\": 0, \"Rank\": 141}, {\"Player\": \"Damien Harris\", \"Team\": \"NWE\", \"Age\": 22, \"Games\": 2, \"GS\": 0, \"RushingAtt\": 4, \"Tgt\": 0, \"Rec\": 0, \"RushingYds\": 12, \"ReceivingYds\": 0, \"RushingTD\": 0, \"ReceivingTD\": 0, \"FantasyPoints\": 1, \"Usage\": 4, \"Yds\": 12, \"TD\": 0, \"Rank\": 141}, {\"Player\": \"Senorise Perry\", \"Team\": \"BUF\", \"Age\": 28, \"Games\": 11, \"GS\": 0, \"RushingAtt\": 3, \"Tgt\": 1, \"Rec\": 1, \"RushingYds\": 3, \"ReceivingYds\": 1, \"RushingTD\": 0, \"ReceivingTD\": 0, \"FantasyPoints\": 1, \"Usage\": 4, \"Yds\": 4, \"TD\": 0, \"Rank\": 141}, {\"Player\": \"Josh Ferguson\", \"Team\": \"WAS\", \"Age\": 26, \"Games\": 2, \"GS\": 0, \"RushingAtt\": 3, \"Tgt\": 0, \"Rec\": 0, \"RushingYds\": 9, \"ReceivingYds\": 0, \"RushingTD\": 0, \"ReceivingTD\": 0, \"FantasyPoints\": 0, \"Usage\": 3, \"Yds\": 9, \"TD\": 0, \"Rank\": 149}, {\"Player\": \"John Kelly\", \"Team\": \"LAR\", \"Age\": 23, \"Games\": 4, \"GS\": 0, \"RushingAtt\": 3, \"Tgt\": 0, \"Rec\": 0, \"RushingYds\": 9, \"ReceivingYds\": 0, \"RushingTD\": 0, \"ReceivingTD\": 0, \"FantasyPoints\": 0, \"Usage\": 3, \"Yds\": 9, \"TD\": 0, \"Rank\": 149}, {\"Player\": \"Ryan Nall\", \"Team\": \"CHI\", \"Age\": 24, \"Games\": 8, \"GS\": 0, \"RushingAtt\": 2, \"Tgt\": 0, \"Rec\": 0, \"RushingYds\": 8, \"ReceivingYds\": 0, \"RushingTD\": 0, \"ReceivingTD\": 0, \"FantasyPoints\": 0, \"Usage\": 2, \"Yds\": 8, \"TD\": 0, \"Rank\": 149}, {\"Player\": \"Tony Brooks-James\", \"Team\": \"PIT\", \"Age\": 25, \"Games\": 3, \"GS\": 0, \"RushingAtt\": 8, \"Tgt\": 0, \"Rec\": 0, \"RushingYds\": 7, \"ReceivingYds\": 0, \"RushingTD\": 0, \"ReceivingTD\": 0, \"FantasyPoints\": 0, \"Usage\": 8, \"Yds\": 7, \"TD\": 0, \"Rank\": 149}, {\"Player\": \"Jordan Scarlett\", \"Team\": \"CAR\", \"Age\": 23, \"Games\": 9, \"GS\": 0, \"RushingAtt\": 4, \"Tgt\": 0, \"Rec\": 0, \"RushingYds\": 9, \"ReceivingYds\": 0, \"RushingTD\": 0, \"ReceivingTD\": 0, \"FantasyPoints\": 0, \"Usage\": 4, \"Yds\": 9, \"TD\": 0, \"Rank\": 149}, {\"Player\": \"De'Lance Turner\", \"Team\": \"MIA\", \"Age\": 24, \"Games\": 8, \"GS\": 0, \"RushingAtt\": 4, \"Tgt\": 0, \"Rec\": 0, \"RushingYds\": 6, \"ReceivingYds\": 0, \"RushingTD\": 0, \"ReceivingTD\": 0, \"FantasyPoints\": 0, \"Usage\": 4, \"Yds\": 6, \"TD\": 0, \"Rank\": 149}, {\"Player\": \"James Develin\", \"Team\": \"NWE\", \"Age\": 31, \"Games\": 2, \"GS\": 2, \"RushingAtt\": 2, \"Tgt\": 0, \"Rec\": 0, \"RushingYds\": 3, \"ReceivingYds\": 0, \"RushingTD\": 0, \"ReceivingTD\": 0, \"FantasyPoints\": 0, \"Usage\": 2, \"Yds\": 3, \"TD\": 0, \"Rank\": 149}, {\"Player\": \"Alfred Morris\", \"Team\": \"ARI\", \"Age\": 31, \"Games\": 1, \"GS\": 0, \"RushingAtt\": 1, \"Tgt\": 0, \"Rec\": 0, \"RushingYds\": 4, \"ReceivingYds\": 0, \"RushingTD\": 0, \"ReceivingTD\": 0, \"FantasyPoints\": 0, \"Usage\": 1, \"Yds\": 4, \"TD\": 0, \"Rank\": 149}]}}, {\"mode\": \"vega-lite\"});\n",
       "</script>"
      ],
      "text/plain": [
       "alt.Chart(...)"
      ]
     },
     "execution_count": 19,
     "metadata": {},
     "output_type": "execute_result"
    }
   ],
   "source": [
    "#collapse\n",
    "chart = alt.Chart(rb_df, title='Running Back Usage vs. Production - 2019 NFL Season').mark_point().encode(\n",
    "    alt.X('Usage', title='Usage (Rushing Attempts + Targets)'),\n",
    "    alt.Y('FantasyPoints', title='Fantasy Points Scored'),\n",
    "    tooltip = ['Player', 'Rank', 'Age', 'Yds', 'TD', 'Usage', 'FantasyPoints']\n",
    ").interactive()\n",
    "\n",
    "chart = chart.configure_title(\n",
    "    fontSize=18,\n",
    ").configure_axis(\n",
    "    titleFontSize = 14,\n",
    "    titleFontWeight = 500\n",
    ")\n",
    "\n",
    "chart.properties(\n",
    "    width=700\n",
    ")"
   ]
  },
  {
   "cell_type": "markdown",
   "metadata": {},
   "source": [
    "There's an obvious positive correlation between these two quantities. Let's put a number on that relationship."
   ]
  },
  {
   "cell_type": "code",
   "execution_count": 20,
   "metadata": {},
   "outputs": [
    {
     "data": {
      "text/plain": [
       "0.9610105031989995"
      ]
     },
     "execution_count": 20,
     "metadata": {},
     "output_type": "execute_result"
    }
   ],
   "source": [
    "rb_df['FantasyPoints'].corr(rb_df['Usage'])"
   ]
  },
  {
   "cell_type": "markdown",
   "metadata": {},
   "source": [
    "{{ '[CSV file](https://www.fantasyfootballdatapros.com/static/data/yearly/2019.csv). Data Source: [Fantasy Football Data Pros](https://www.fantasyfootballdatapros.com/)'  | fndetail: 1 }}"
   ]
  }
 ],
 "metadata": {
  "kernelspec": {
   "display_name": "Python 3",
   "language": "python",
   "name": "python3"
  },
  "language_info": {
   "codemirror_mode": {
    "name": "ipython",
    "version": 3
   },
   "file_extension": ".py",
   "mimetype": "text/x-python",
   "name": "python",
   "nbconvert_exporter": "python",
   "pygments_lexer": "ipython3",
   "version": "3.7.0"
  }
 },
 "nbformat": 4,
 "nbformat_minor": 4
}
